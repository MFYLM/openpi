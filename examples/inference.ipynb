{
 "cells": [
  {
   "cell_type": "code",
   "execution_count": 2,
   "metadata": {},
   "outputs": [],
   "source": [
    "import dataclasses\n",
    "\n",
    "import jax\n",
    "\n",
    "from openpi.models import model as _model\n",
    "from openpi.policies import droid_policy\n",
    "from openpi.policies import policy_config as _policy_config\n",
    "from openpi.shared import download\n",
    "from openpi.training import config as _config\n",
    "from openpi.training import data_loader as _data_loader"
   ]
  },
  {
   "cell_type": "markdown",
   "metadata": {},
   "source": [
    "# Policy inference\n",
    "\n",
    "The following example shows how to create a policy from a checkpoint and run inference on a dummy example."
   ]
  },
  {
   "cell_type": "code",
   "execution_count": 3,
   "metadata": {},
   "outputs": [
    {
     "name": "stderr",
     "output_type": "stream",
     "text": [
      "Some kwargs in processor config are unused and will not have any effect: vocab_size, time_horizon, scale, min_token, action_dim. \n",
      "Some kwargs in processor config are unused and will not have any effect: vocab_size, time_horizon, scale, min_token, action_dim. \n"
     ]
    },
    {
     "name": "stdout",
     "output_type": "stream",
     "text": [
      "{'observation/exterior_image_1_left': array([[[ 43, 156,  92],\n",
      "        [180, 190,  43],\n",
      "        [231,  25, 180],\n",
      "        ...,\n",
      "        [255,  90,  53],\n",
      "        [210, 110,   3],\n",
      "        [132, 204, 206]],\n",
      "\n",
      "       [[161, 212, 112],\n",
      "        [207, 202, 152],\n",
      "        [ 77,  27,  14],\n",
      "        ...,\n",
      "        [100, 120, 230],\n",
      "        [155,  94, 139],\n",
      "        [ 18, 183, 223]],\n",
      "\n",
      "       [[237, 201,  74],\n",
      "        [253,  11, 249],\n",
      "        [ 52,  70, 153],\n",
      "        ...,\n",
      "        [125, 185,  41],\n",
      "        [185, 167,  69],\n",
      "        [ 42, 246,  88]],\n",
      "\n",
      "       ...,\n",
      "\n",
      "       [[234, 203, 175],\n",
      "        [168,  34,  48],\n",
      "        [124, 127, 170],\n",
      "        ...,\n",
      "        [ 59, 100, 141],\n",
      "        [172, 162, 170],\n",
      "        [169, 224, 165]],\n",
      "\n",
      "       [[  7,  25, 135],\n",
      "        [101, 193, 134],\n",
      "        [ 57, 193, 241],\n",
      "        ...,\n",
      "        [ 23, 182, 226],\n",
      "        [185, 181, 134],\n",
      "        [211, 195,  86]],\n",
      "\n",
      "       [[237, 126,  62],\n",
      "        [119, 119, 108],\n",
      "        [121,  50,  80],\n",
      "        ...,\n",
      "        [121,  12,  95],\n",
      "        [132,  98, 221],\n",
      "        [ 89, 223, 185]]], dtype=uint8), 'observation/wrist_image_left': array([[[ 99, 152, 221],\n",
      "        [ 49,   0,  10],\n",
      "        [222, 201, 126],\n",
      "        ...,\n",
      "        [ 14, 166, 122],\n",
      "        [209,  93, 252],\n",
      "        [229, 121, 213]],\n",
      "\n",
      "       [[224, 140,  20],\n",
      "        [224,  19,  97],\n",
      "        [197,  15,  35],\n",
      "        ...,\n",
      "        [ 12,  94,  90],\n",
      "        [ 71,  70,  21],\n",
      "        [183, 157,  20]],\n",
      "\n",
      "       [[123,  70, 106],\n",
      "        [205,  47, 135],\n",
      "        [ 16, 241,  10],\n",
      "        ...,\n",
      "        [ 45, 130, 166],\n",
      "        [100,  27, 246],\n",
      "        [ 99, 131, 202]],\n",
      "\n",
      "       ...,\n",
      "\n",
      "       [[193, 163, 198],\n",
      "        [  8, 195, 255],\n",
      "        [ 14,  99, 170],\n",
      "        ...,\n",
      "        [206,   6, 149],\n",
      "        [249,  88, 234],\n",
      "        [226,  26, 247]],\n",
      "\n",
      "       [[ 88,  65, 103],\n",
      "        [116, 225,  62],\n",
      "        [154,  23, 110],\n",
      "        ...,\n",
      "        [172, 233, 178],\n",
      "        [170,  28,  81],\n",
      "        [112, 176, 125]],\n",
      "\n",
      "       [[124, 173,   5],\n",
      "        [ 30, 106, 108],\n",
      "        [ 86, 171,  50],\n",
      "        ...,\n",
      "        [221,  68, 217],\n",
      "        [230, 104, 146],\n",
      "        [180, 101,  11]]], dtype=uint8), 'observation/joint_position': array([0.40269821, 0.51944851, 0.86118402, 0.97604228, 0.30284221,\n",
      "       0.02532584, 0.07814381]), 'observation/gripper_position': array([0.08690325]), 'prompt': 'do something'}\n",
      "Actions shape: (10, 8)\n"
     ]
    }
   ],
   "source": [
    "config = _config.get_config(\"pi0_fast_droid\")\n",
    "checkpoint_dir = download.maybe_download(\"s3://openpi-assets/checkpoints/pi0_fast_droid\")\n",
    "\n",
    "# Create a trained policy.\n",
    "policy = _policy_config.create_trained_policy(config, checkpoint_dir)\n",
    "\n",
    "# Run inference on a dummy example. This example corresponds to observations produced by the DROID runtime.\n",
    "example = droid_policy.make_droid_example()\n",
    "print(example)\n",
    "result = policy.infer(example)\n",
    "\n",
    "# Delete the policy to free up memory.\n",
    "del policy\n",
    "\n",
    "print(\"Actions shape:\", result[\"actions\"].shape)"
   ]
  },
  {
   "cell_type": "markdown",
   "metadata": {},
   "source": [
    "# Working with a live model\n",
    "\n",
    "\n",
    "The following example shows how to create a live model from a checkpoint and compute training loss. First, we are going to demonstrate how to do it with fake data.\n"
   ]
  },
  {
   "cell_type": "code",
   "execution_count": 3,
   "metadata": {},
   "outputs": [
    {
     "data": {
      "application/vnd.jupyter.widget-view+json": {
       "model_id": "8a96a39983e44a429d95e03237cfb584",
       "version_major": 2,
       "version_minor": 0
      },
      "text/plain": [
       "  0%|          | 0.00/11.2G [00:00<?, ?iB/s]"
      ]
     },
     "metadata": {},
     "output_type": "display_data"
    },
    {
     "name": "stderr",
     "output_type": "stream",
     "text": [
      "WARNING:urllib3.connectionpool:Connection pool is full, discarding connection: openpi-assets.s3.us-west-1.amazonaws.com. Connection pool size: 18\n",
      "WARNING:urllib3.connectionpool:Connection pool is full, discarding connection: openpi-assets.s3.us-west-1.amazonaws.com. Connection pool size: 18\n",
      "WARNING:urllib3.connectionpool:Connection pool is full, discarding connection: openpi-assets.s3.us-west-1.amazonaws.com. Connection pool size: 18\n"
     ]
    },
    {
     "name": "stdout",
     "output_type": "stream",
     "text": [
      "Loss shape: (1, 50)\n"
     ]
    }
   ],
   "source": [
    "config = _config.get_config(\"pi0_aloha_sim\")\n",
    "\n",
    "checkpoint_dir = download.maybe_download(\"s3://openpi-assets/checkpoints/pi0_aloha_sim\")\n",
    "key = jax.random.key(0)\n",
    "\n",
    "# Create a model from the checkpoint.\n",
    "model = config.model.load(_model.restore_params(checkpoint_dir / \"params\"))\n",
    "\n",
    "# We can create fake observations and actions to test the model.\n",
    "obs, act = config.model.fake_obs(), config.model.fake_act()\n",
    "\n",
    "# Sample actions from the model.\n",
    "loss = model.compute_loss(key, obs, act)\n",
    "print(\"Loss shape:\", loss.shape)"
   ]
  },
  {
   "cell_type": "markdown",
   "metadata": {},
   "source": [
    "Now, we are going to create a data loader and use a real batch of training data to compute the loss."
   ]
  },
  {
   "cell_type": "code",
   "execution_count": 4,
   "metadata": {},
   "outputs": [
    {
     "data": {
      "application/vnd.jupyter.widget-view+json": {
       "model_id": "dab5d8d0014245cd826bbf60e83f350d",
       "version_major": 2,
       "version_minor": 0
      },
      "text/plain": [
       "Fetching 4 files:   0%|          | 0/4 [00:00<?, ?it/s]"
      ]
     },
     "metadata": {},
     "output_type": "display_data"
    },
    {
     "data": {
      "application/vnd.jupyter.widget-view+json": {
       "model_id": "65f92986c9364023971f2688069862b1",
       "version_major": 2,
       "version_minor": 0
      },
      "text/plain": [
       "meta%2Ftasks.jsonl:   0%|          | 0.00/98.0 [00:00<?, ?B/s]"
      ]
     },
     "metadata": {},
     "output_type": "display_data"
    },
    {
     "data": {
      "application/vnd.jupyter.widget-view+json": {
       "model_id": "6df58eb7f39141dc822e4663e641f95e",
       "version_major": 2,
       "version_minor": 0
      },
      "text/plain": [
       "meta%2Fstats.json:   0%|          | 0.00/6.40k [00:00<?, ?B/s]"
      ]
     },
     "metadata": {},
     "output_type": "display_data"
    },
    {
     "data": {
      "application/vnd.jupyter.widget-view+json": {
       "model_id": "2174c6bd776a45939552b977f5cb9d75",
       "version_major": 2,
       "version_minor": 0
      },
      "text/plain": [
       "meta%2Finfo.json:   0%|          | 0.00/3.37k [00:00<?, ?B/s]"
      ]
     },
     "metadata": {},
     "output_type": "display_data"
    },
    {
     "data": {
      "application/vnd.jupyter.widget-view+json": {
       "model_id": "8067879c6adf4b64a8119cfa8b11e365",
       "version_major": 2,
       "version_minor": 0
      },
      "text/plain": [
       "meta%2Fepisodes.jsonl:   0%|          | 0.00/5.99k [00:00<?, ?B/s]"
      ]
     },
     "metadata": {},
     "output_type": "display_data"
    },
    {
     "data": {
      "application/vnd.jupyter.widget-view+json": {
       "model_id": "be9435add1bc48f5a7e23fff84d8bbcc",
       "version_major": 2,
       "version_minor": 0
      },
      "text/plain": [
       "Fetching 4 files:   0%|          | 0/4 [00:00<?, ?it/s]"
      ]
     },
     "metadata": {},
     "output_type": "display_data"
    },
    {
     "data": {
      "application/vnd.jupyter.widget-view+json": {
       "model_id": "2ca2991444d548599229002845b8865c",
       "version_major": 2,
       "version_minor": 0
      },
      "text/plain": [
       "Fetching 106 files:   0%|          | 0/106 [00:00<?, ?it/s]"
      ]
     },
     "metadata": {},
     "output_type": "display_data"
    },
    {
     "data": {
      "application/vnd.jupyter.widget-view+json": {
       "model_id": "6539153d2c0b4c22bb97af19bd9840da",
       "version_major": 2,
       "version_minor": 0
      },
      "text/plain": [
       "README.md:   0%|          | 0.00/4.14k [00:00<?, ?B/s]"
      ]
     },
     "metadata": {},
     "output_type": "display_data"
    },
    {
     "data": {
      "application/vnd.jupyter.widget-view+json": {
       "model_id": "84823f45ca9f433e913fe39be8807d68",
       "version_major": 2,
       "version_minor": 0
      },
      "text/plain": [
       "episode_000003.parquet:   0%|          | 0.00/53.8k [00:00<?, ?B/s]"
      ]
     },
     "metadata": {},
     "output_type": "display_data"
    },
    {
     "data": {
      "application/vnd.jupyter.widget-view+json": {
       "model_id": "fea1a0daa3be4eb68dbab8da0f383b24",
       "version_major": 2,
       "version_minor": 0
      },
      "text/plain": [
       "episode_000002.parquet:   0%|          | 0.00/54.6k [00:00<?, ?B/s]"
      ]
     },
     "metadata": {},
     "output_type": "display_data"
    },
    {
     "data": {
      "application/vnd.jupyter.widget-view+json": {
       "model_id": "2f020b60cca140668a8fbc8bd38c142b",
       "version_major": 2,
       "version_minor": 0
      },
      "text/plain": [
       "episode_000005.parquet:   0%|          | 0.00/53.7k [00:00<?, ?B/s]"
      ]
     },
     "metadata": {},
     "output_type": "display_data"
    },
    {
     "data": {
      "application/vnd.jupyter.widget-view+json": {
       "model_id": "66a44e40cd73451e9f53f912e4be2bb7",
       "version_major": 2,
       "version_minor": 0
      },
      "text/plain": [
       "episode_000001.parquet:   0%|          | 0.00/52.7k [00:00<?, ?B/s]"
      ]
     },
     "metadata": {},
     "output_type": "display_data"
    },
    {
     "data": {
      "application/vnd.jupyter.widget-view+json": {
       "model_id": "2abd09b989a24fc4a2aadf4288878aee",
       "version_major": 2,
       "version_minor": 0
      },
      "text/plain": [
       "episode_000004.parquet:   0%|          | 0.00/52.5k [00:00<?, ?B/s]"
      ]
     },
     "metadata": {},
     "output_type": "display_data"
    },
    {
     "data": {
      "application/vnd.jupyter.widget-view+json": {
       "model_id": "412bddceee104e53b52b6b3ffcb68fd0",
       "version_major": 2,
       "version_minor": 0
      },
      "text/plain": [
       "episode_000000.parquet:   0%|          | 0.00/52.2k [00:00<?, ?B/s]"
      ]
     },
     "metadata": {},
     "output_type": "display_data"
    },
    {
     "data": {
      "application/vnd.jupyter.widget-view+json": {
       "model_id": "8a0f5515589247f981cf6340e0968b77",
       "version_major": 2,
       "version_minor": 0
      },
      "text/plain": [
       "episode_000006.parquet:   0%|          | 0.00/53.0k [00:00<?, ?B/s]"
      ]
     },
     "metadata": {},
     "output_type": "display_data"
    },
    {
     "data": {
      "application/vnd.jupyter.widget-view+json": {
       "model_id": "a0faceafea654b9aa24bb9881d31b136",
       "version_major": 2,
       "version_minor": 0
      },
      "text/plain": [
       ".gitattributes:   0%|          | 0.00/2.42k [00:00<?, ?B/s]"
      ]
     },
     "metadata": {},
     "output_type": "display_data"
    },
    {
     "data": {
      "application/vnd.jupyter.widget-view+json": {
       "model_id": "3f12649037454caba98255bc8d4f3c8a",
       "version_major": 2,
       "version_minor": 0
      },
      "text/plain": [
       "episode_000008.parquet:   0%|          | 0.00/52.6k [00:00<?, ?B/s]"
      ]
     },
     "metadata": {},
     "output_type": "display_data"
    },
    {
     "data": {
      "application/vnd.jupyter.widget-view+json": {
       "model_id": "d6623d1663634f94ba26fa70f3a2bb5b",
       "version_major": 2,
       "version_minor": 0
      },
      "text/plain": [
       "episode_000010.parquet:   0%|          | 0.00/53.0k [00:00<?, ?B/s]"
      ]
     },
     "metadata": {},
     "output_type": "display_data"
    },
    {
     "data": {
      "application/vnd.jupyter.widget-view+json": {
       "model_id": "a29d1ca0379149a785b09924ede1ebf6",
       "version_major": 2,
       "version_minor": 0
      },
      "text/plain": [
       "episode_000007.parquet:   0%|          | 0.00/54.0k [00:00<?, ?B/s]"
      ]
     },
     "metadata": {},
     "output_type": "display_data"
    },
    {
     "data": {
      "application/vnd.jupyter.widget-view+json": {
       "model_id": "02df981e7e3c4dee9145c94ba9331f67",
       "version_major": 2,
       "version_minor": 0
      },
      "text/plain": [
       "episode_000011.parquet:   0%|          | 0.00/52.8k [00:00<?, ?B/s]"
      ]
     },
     "metadata": {},
     "output_type": "display_data"
    },
    {
     "data": {
      "application/vnd.jupyter.widget-view+json": {
       "model_id": "204ececb93994ae8b9ce9205962d721b",
       "version_major": 2,
       "version_minor": 0
      },
      "text/plain": [
       "episode_000009.parquet:   0%|          | 0.00/52.8k [00:00<?, ?B/s]"
      ]
     },
     "metadata": {},
     "output_type": "display_data"
    },
    {
     "data": {
      "application/vnd.jupyter.widget-view+json": {
       "model_id": "56da2942a21b4a5fa9c22931ca19b55a",
       "version_major": 2,
       "version_minor": 0
      },
      "text/plain": [
       "episode_000012.parquet:   0%|          | 0.00/54.2k [00:00<?, ?B/s]"
      ]
     },
     "metadata": {},
     "output_type": "display_data"
    },
    {
     "data": {
      "application/vnd.jupyter.widget-view+json": {
       "model_id": "f4b6c91ee7d94653a5bfc052696f3de6",
       "version_major": 2,
       "version_minor": 0
      },
      "text/plain": [
       "episode_000013.parquet:   0%|          | 0.00/52.3k [00:00<?, ?B/s]"
      ]
     },
     "metadata": {},
     "output_type": "display_data"
    },
    {
     "data": {
      "application/vnd.jupyter.widget-view+json": {
       "model_id": "c9f2e26ca7a84357b5999b3c317d69af",
       "version_major": 2,
       "version_minor": 0
      },
      "text/plain": [
       "episode_000014.parquet:   0%|          | 0.00/53.8k [00:00<?, ?B/s]"
      ]
     },
     "metadata": {},
     "output_type": "display_data"
    },
    {
     "data": {
      "application/vnd.jupyter.widget-view+json": {
       "model_id": "8a56ab947d7b47069f15205db2af225b",
       "version_major": 2,
       "version_minor": 0
      },
      "text/plain": [
       "episode_000015.parquet:   0%|          | 0.00/52.8k [00:00<?, ?B/s]"
      ]
     },
     "metadata": {},
     "output_type": "display_data"
    },
    {
     "data": {
      "application/vnd.jupyter.widget-view+json": {
       "model_id": "cfaa584fc4d24e1c8942630958d50f3b",
       "version_major": 2,
       "version_minor": 0
      },
      "text/plain": [
       "episode_000018.parquet:   0%|          | 0.00/52.8k [00:00<?, ?B/s]"
      ]
     },
     "metadata": {},
     "output_type": "display_data"
    },
    {
     "data": {
      "application/vnd.jupyter.widget-view+json": {
       "model_id": "455e7c9c62c04ca9a3e943a32a0a9deb",
       "version_major": 2,
       "version_minor": 0
      },
      "text/plain": [
       "episode_000017.parquet:   0%|          | 0.00/52.6k [00:00<?, ?B/s]"
      ]
     },
     "metadata": {},
     "output_type": "display_data"
    },
    {
     "data": {
      "application/vnd.jupyter.widget-view+json": {
       "model_id": "57d40902cf684c33b1570447d6c12199",
       "version_major": 2,
       "version_minor": 0
      },
      "text/plain": [
       "episode_000016.parquet:   0%|          | 0.00/52.7k [00:00<?, ?B/s]"
      ]
     },
     "metadata": {},
     "output_type": "display_data"
    },
    {
     "data": {
      "application/vnd.jupyter.widget-view+json": {
       "model_id": "3987c3298df24c6d9909d027c9299936",
       "version_major": 2,
       "version_minor": 0
      },
      "text/plain": [
       "episode_000020.parquet:   0%|          | 0.00/52.4k [00:00<?, ?B/s]"
      ]
     },
     "metadata": {},
     "output_type": "display_data"
    },
    {
     "data": {
      "application/vnd.jupyter.widget-view+json": {
       "model_id": "09c5fb82a43e4c73acab192b269ff7cb",
       "version_major": 2,
       "version_minor": 0
      },
      "text/plain": [
       "episode_000021.parquet:   0%|          | 0.00/52.9k [00:00<?, ?B/s]"
      ]
     },
     "metadata": {},
     "output_type": "display_data"
    },
    {
     "data": {
      "application/vnd.jupyter.widget-view+json": {
       "model_id": "b84e5721ed1848489452be1eadbb0795",
       "version_major": 2,
       "version_minor": 0
      },
      "text/plain": [
       "episode_000022.parquet:   0%|          | 0.00/54.4k [00:00<?, ?B/s]"
      ]
     },
     "metadata": {},
     "output_type": "display_data"
    },
    {
     "data": {
      "application/vnd.jupyter.widget-view+json": {
       "model_id": "82c6045e0dc34f5aa00d4a291832617e",
       "version_major": 2,
       "version_minor": 0
      },
      "text/plain": [
       "episode_000024.parquet:   0%|          | 0.00/54.1k [00:00<?, ?B/s]"
      ]
     },
     "metadata": {},
     "output_type": "display_data"
    },
    {
     "data": {
      "application/vnd.jupyter.widget-view+json": {
       "model_id": "efbb60f224c44dfab51d1e9d9dd4045d",
       "version_major": 2,
       "version_minor": 0
      },
      "text/plain": [
       "episode_000026.parquet:   0%|          | 0.00/54.1k [00:00<?, ?B/s]"
      ]
     },
     "metadata": {},
     "output_type": "display_data"
    },
    {
     "data": {
      "application/vnd.jupyter.widget-view+json": {
       "model_id": "f52db47ee6d9480eae8177d814dbc1e0",
       "version_major": 2,
       "version_minor": 0
      },
      "text/plain": [
       "episode_000025.parquet:   0%|          | 0.00/53.8k [00:00<?, ?B/s]"
      ]
     },
     "metadata": {},
     "output_type": "display_data"
    },
    {
     "data": {
      "application/vnd.jupyter.widget-view+json": {
       "model_id": "b8d66123d4c2486e9689e7f701513ee1",
       "version_major": 2,
       "version_minor": 0
      },
      "text/plain": [
       "episode_000028.parquet:   0%|          | 0.00/53.4k [00:00<?, ?B/s]"
      ]
     },
     "metadata": {},
     "output_type": "display_data"
    },
    {
     "data": {
      "application/vnd.jupyter.widget-view+json": {
       "model_id": "463df397e1164b2e9c9fdc703ca3d827",
       "version_major": 2,
       "version_minor": 0
      },
      "text/plain": [
       "episode_000027.parquet:   0%|          | 0.00/52.4k [00:00<?, ?B/s]"
      ]
     },
     "metadata": {},
     "output_type": "display_data"
    },
    {
     "data": {
      "application/vnd.jupyter.widget-view+json": {
       "model_id": "29274d2cf1cd431f9b75b6267772c805",
       "version_major": 2,
       "version_minor": 0
      },
      "text/plain": [
       "episode_000029.parquet:   0%|          | 0.00/54.2k [00:00<?, ?B/s]"
      ]
     },
     "metadata": {},
     "output_type": "display_data"
    },
    {
     "data": {
      "application/vnd.jupyter.widget-view+json": {
       "model_id": "3a57ef2098ad429892ede0447e33b135",
       "version_major": 2,
       "version_minor": 0
      },
      "text/plain": [
       "episode_000030.parquet:   0%|          | 0.00/53.2k [00:00<?, ?B/s]"
      ]
     },
     "metadata": {},
     "output_type": "display_data"
    },
    {
     "data": {
      "application/vnd.jupyter.widget-view+json": {
       "model_id": "61575d6583cb44ba9ee381fe1112e1b3",
       "version_major": 2,
       "version_minor": 0
      },
      "text/plain": [
       "episode_000032.parquet:   0%|          | 0.00/52.8k [00:00<?, ?B/s]"
      ]
     },
     "metadata": {},
     "output_type": "display_data"
    },
    {
     "data": {
      "application/vnd.jupyter.widget-view+json": {
       "model_id": "4b3e607f7ac44ffd9a34b8778198989c",
       "version_major": 2,
       "version_minor": 0
      },
      "text/plain": [
       "episode_000031.parquet:   0%|          | 0.00/54.1k [00:00<?, ?B/s]"
      ]
     },
     "metadata": {},
     "output_type": "display_data"
    },
    {
     "data": {
      "application/vnd.jupyter.widget-view+json": {
       "model_id": "f988c9c1a8e041f5bd855d03ef2ec9d4",
       "version_major": 2,
       "version_minor": 0
      },
      "text/plain": [
       "episode_000034.parquet:   0%|          | 0.00/53.9k [00:00<?, ?B/s]"
      ]
     },
     "metadata": {},
     "output_type": "display_data"
    },
    {
     "data": {
      "application/vnd.jupyter.widget-view+json": {
       "model_id": "907dc7a87cdf44f49f6a883859b1bb78",
       "version_major": 2,
       "version_minor": 0
      },
      "text/plain": [
       "episode_000033.parquet:   0%|          | 0.00/52.6k [00:00<?, ?B/s]"
      ]
     },
     "metadata": {},
     "output_type": "display_data"
    },
    {
     "data": {
      "application/vnd.jupyter.widget-view+json": {
       "model_id": "3c2e53144eda4497b130cbbfc983e9a2",
       "version_major": 2,
       "version_minor": 0
      },
      "text/plain": [
       "episode_000019.parquet:   0%|          | 0.00/53.0k [00:00<?, ?B/s]"
      ]
     },
     "metadata": {},
     "output_type": "display_data"
    },
    {
     "data": {
      "application/vnd.jupyter.widget-view+json": {
       "model_id": "719440250a5b4ac68e43884053f08095",
       "version_major": 2,
       "version_minor": 0
      },
      "text/plain": [
       "episode_000036.parquet:   0%|          | 0.00/52.9k [00:00<?, ?B/s]"
      ]
     },
     "metadata": {},
     "output_type": "display_data"
    },
    {
     "data": {
      "application/vnd.jupyter.widget-view+json": {
       "model_id": "d2843e5652dc4102ad351636b96dc59f",
       "version_major": 2,
       "version_minor": 0
      },
      "text/plain": [
       "episode_000037.parquet:   0%|          | 0.00/52.9k [00:00<?, ?B/s]"
      ]
     },
     "metadata": {},
     "output_type": "display_data"
    },
    {
     "data": {
      "application/vnd.jupyter.widget-view+json": {
       "model_id": "ec5f40bd87cd48579ca61ad971bd7d14",
       "version_major": 2,
       "version_minor": 0
      },
      "text/plain": [
       "episode_000038.parquet:   0%|          | 0.00/54.4k [00:00<?, ?B/s]"
      ]
     },
     "metadata": {},
     "output_type": "display_data"
    },
    {
     "data": {
      "application/vnd.jupyter.widget-view+json": {
       "model_id": "9e7e02d7d30142c1acda5c0a491c800b",
       "version_major": 2,
       "version_minor": 0
      },
      "text/plain": [
       "episode_000035.parquet:   0%|          | 0.00/53.9k [00:00<?, ?B/s]"
      ]
     },
     "metadata": {},
     "output_type": "display_data"
    },
    {
     "data": {
      "application/vnd.jupyter.widget-view+json": {
       "model_id": "7c9c8c0786f04b9a8eaf9d56d823a0fc",
       "version_major": 2,
       "version_minor": 0
      },
      "text/plain": [
       "episode_000040.parquet:   0%|          | 0.00/53.4k [00:00<?, ?B/s]"
      ]
     },
     "metadata": {},
     "output_type": "display_data"
    },
    {
     "data": {
      "application/vnd.jupyter.widget-view+json": {
       "model_id": "5be260129db94a5a82048cf03d82e262",
       "version_major": 2,
       "version_minor": 0
      },
      "text/plain": [
       "episode_000039.parquet:   0%|          | 0.00/54.1k [00:00<?, ?B/s]"
      ]
     },
     "metadata": {},
     "output_type": "display_data"
    },
    {
     "data": {
      "application/vnd.jupyter.widget-view+json": {
       "model_id": "d25908b8b9034bae907d8912d4fc6de8",
       "version_major": 2,
       "version_minor": 0
      },
      "text/plain": [
       "episode_000041.parquet:   0%|          | 0.00/52.6k [00:00<?, ?B/s]"
      ]
     },
     "metadata": {},
     "output_type": "display_data"
    },
    {
     "data": {
      "application/vnd.jupyter.widget-view+json": {
       "model_id": "c186544a4b624cf09a337eb24b6363a2",
       "version_major": 2,
       "version_minor": 0
      },
      "text/plain": [
       "episode_000042.parquet:   0%|          | 0.00/54.0k [00:00<?, ?B/s]"
      ]
     },
     "metadata": {},
     "output_type": "display_data"
    },
    {
     "data": {
      "application/vnd.jupyter.widget-view+json": {
       "model_id": "a434b2afb67241418d300003d3bf9cdf",
       "version_major": 2,
       "version_minor": 0
      },
      "text/plain": [
       "episode_000043.parquet:   0%|          | 0.00/53.7k [00:00<?, ?B/s]"
      ]
     },
     "metadata": {},
     "output_type": "display_data"
    },
    {
     "data": {
      "application/vnd.jupyter.widget-view+json": {
       "model_id": "38a3c945703b43e584c947392d997fb0",
       "version_major": 2,
       "version_minor": 0
      },
      "text/plain": [
       "episode_000045.parquet:   0%|          | 0.00/53.9k [00:00<?, ?B/s]"
      ]
     },
     "metadata": {},
     "output_type": "display_data"
    },
    {
     "data": {
      "application/vnd.jupyter.widget-view+json": {
       "model_id": "54c8e04b0f5c444996cb3c498b526510",
       "version_major": 2,
       "version_minor": 0
      },
      "text/plain": [
       "episode_000046.parquet:   0%|          | 0.00/54.1k [00:00<?, ?B/s]"
      ]
     },
     "metadata": {},
     "output_type": "display_data"
    },
    {
     "data": {
      "application/vnd.jupyter.widget-view+json": {
       "model_id": "b1ddd86f48c848ad9be6f72632aa5d59",
       "version_major": 2,
       "version_minor": 0
      },
      "text/plain": [
       "episode_000048.parquet:   0%|          | 0.00/52.5k [00:00<?, ?B/s]"
      ]
     },
     "metadata": {},
     "output_type": "display_data"
    },
    {
     "data": {
      "application/vnd.jupyter.widget-view+json": {
       "model_id": "b941cc99fa0d4cb58087f68ae765922e",
       "version_major": 2,
       "version_minor": 0
      },
      "text/plain": [
       "episode_000044.parquet:   0%|          | 0.00/52.2k [00:00<?, ?B/s]"
      ]
     },
     "metadata": {},
     "output_type": "display_data"
    },
    {
     "data": {
      "application/vnd.jupyter.widget-view+json": {
       "model_id": "2697d19f9ebb4f23af2ce2f5c0b77088",
       "version_major": 2,
       "version_minor": 0
      },
      "text/plain": [
       "episode_000047.parquet:   0%|          | 0.00/51.7k [00:00<?, ?B/s]"
      ]
     },
     "metadata": {},
     "output_type": "display_data"
    },
    {
     "data": {
      "application/vnd.jupyter.widget-view+json": {
       "model_id": "8a5a735c7bdc4ba18ea3c5ddcd83d373",
       "version_major": 2,
       "version_minor": 0
      },
      "text/plain": [
       "episode_000049.parquet:   0%|          | 0.00/53.5k [00:00<?, ?B/s]"
      ]
     },
     "metadata": {},
     "output_type": "display_data"
    },
    {
     "data": {
      "application/vnd.jupyter.widget-view+json": {
       "model_id": "df70cfc8c41f4b3ebe8b85c5f055c350",
       "version_major": 2,
       "version_minor": 0
      },
      "text/plain": [
       "episode_000000.mp4:   0%|          | 0.00/1.31M [00:00<?, ?B/s]"
      ]
     },
     "metadata": {},
     "output_type": "display_data"
    },
    {
     "data": {
      "application/vnd.jupyter.widget-view+json": {
       "model_id": "4b08931b41da4c168265acb136a3af48",
       "version_major": 2,
       "version_minor": 0
      },
      "text/plain": [
       "episode_000001.mp4:   0%|          | 0.00/1.34M [00:00<?, ?B/s]"
      ]
     },
     "metadata": {},
     "output_type": "display_data"
    },
    {
     "data": {
      "application/vnd.jupyter.widget-view+json": {
       "model_id": "68bd466cc8044c9fb8a0262ed8e326bf",
       "version_major": 2,
       "version_minor": 0
      },
      "text/plain": [
       "episode_000002.mp4:   0%|          | 0.00/1.40M [00:00<?, ?B/s]"
      ]
     },
     "metadata": {},
     "output_type": "display_data"
    },
    {
     "data": {
      "application/vnd.jupyter.widget-view+json": {
       "model_id": "7abb8b8fa3ee4c25be5786d987499feb",
       "version_major": 2,
       "version_minor": 0
      },
      "text/plain": [
       "episode_000004.mp4:   0%|          | 0.00/1.35M [00:00<?, ?B/s]"
      ]
     },
     "metadata": {},
     "output_type": "display_data"
    },
    {
     "data": {
      "application/vnd.jupyter.widget-view+json": {
       "model_id": "da8a0bb1026143f0b91837414f14d288",
       "version_major": 2,
       "version_minor": 0
      },
      "text/plain": [
       "episode_000003.mp4:   0%|          | 0.00/1.39M [00:00<?, ?B/s]"
      ]
     },
     "metadata": {},
     "output_type": "display_data"
    },
    {
     "data": {
      "application/vnd.jupyter.widget-view+json": {
       "model_id": "4f3e77ed5224454980c876c8d1de3daf",
       "version_major": 2,
       "version_minor": 0
      },
      "text/plain": [
       "episode_000005.mp4:   0%|          | 0.00/1.36M [00:00<?, ?B/s]"
      ]
     },
     "metadata": {},
     "output_type": "display_data"
    },
    {
     "data": {
      "application/vnd.jupyter.widget-view+json": {
       "model_id": "430ff0510ee74131a6f0fbd7e3bfb5a1",
       "version_major": 2,
       "version_minor": 0
      },
      "text/plain": [
       "episode_000006.mp4:   0%|          | 0.00/1.36M [00:00<?, ?B/s]"
      ]
     },
     "metadata": {},
     "output_type": "display_data"
    },
    {
     "data": {
      "application/vnd.jupyter.widget-view+json": {
       "model_id": "43f7d1d1dc6f4d7b922e98520d049583",
       "version_major": 2,
       "version_minor": 0
      },
      "text/plain": [
       "episode_000007.mp4:   0%|          | 0.00/1.38M [00:00<?, ?B/s]"
      ]
     },
     "metadata": {},
     "output_type": "display_data"
    },
    {
     "data": {
      "application/vnd.jupyter.widget-view+json": {
       "model_id": "d8b73717223b4bd199824a9e48a6e4b3",
       "version_major": 2,
       "version_minor": 0
      },
      "text/plain": [
       "episode_000008.mp4:   0%|          | 0.00/1.36M [00:00<?, ?B/s]"
      ]
     },
     "metadata": {},
     "output_type": "display_data"
    },
    {
     "data": {
      "application/vnd.jupyter.widget-view+json": {
       "model_id": "92e2c5fbf7d64f008dea16620d6bce77",
       "version_major": 2,
       "version_minor": 0
      },
      "text/plain": [
       "episode_000009.mp4:   0%|          | 0.00/1.34M [00:00<?, ?B/s]"
      ]
     },
     "metadata": {},
     "output_type": "display_data"
    },
    {
     "data": {
      "application/vnd.jupyter.widget-view+json": {
       "model_id": "4f1d4ba4b39e44caab77170f132f45ea",
       "version_major": 2,
       "version_minor": 0
      },
      "text/plain": [
       "episode_000010.mp4:   0%|          | 0.00/1.34M [00:00<?, ?B/s]"
      ]
     },
     "metadata": {},
     "output_type": "display_data"
    },
    {
     "data": {
      "application/vnd.jupyter.widget-view+json": {
       "model_id": "8850e8c029fd46ab919540a0064cb43b",
       "version_major": 2,
       "version_minor": 0
      },
      "text/plain": [
       "episode_000011.mp4:   0%|          | 0.00/1.36M [00:00<?, ?B/s]"
      ]
     },
     "metadata": {},
     "output_type": "display_data"
    },
    {
     "data": {
      "application/vnd.jupyter.widget-view+json": {
       "model_id": "e0f0a9507bb9453d85efd5ec9b204871",
       "version_major": 2,
       "version_minor": 0
      },
      "text/plain": [
       "episode_000012.mp4:   0%|          | 0.00/1.40M [00:00<?, ?B/s]"
      ]
     },
     "metadata": {},
     "output_type": "display_data"
    },
    {
     "data": {
      "application/vnd.jupyter.widget-view+json": {
       "model_id": "4cc2554a83e242118cfd582a99450d85",
       "version_major": 2,
       "version_minor": 0
      },
      "text/plain": [
       "episode_000015.mp4:   0%|          | 0.00/1.34M [00:00<?, ?B/s]"
      ]
     },
     "metadata": {},
     "output_type": "display_data"
    },
    {
     "data": {
      "application/vnd.jupyter.widget-view+json": {
       "model_id": "73e4c986ffc445be8b7b43fc19d9643e",
       "version_major": 2,
       "version_minor": 0
      },
      "text/plain": [
       "episode_000013.mp4:   0%|          | 0.00/1.35M [00:00<?, ?B/s]"
      ]
     },
     "metadata": {},
     "output_type": "display_data"
    },
    {
     "data": {
      "application/vnd.jupyter.widget-view+json": {
       "model_id": "cb6773767e9946cfba78638130596a33",
       "version_major": 2,
       "version_minor": 0
      },
      "text/plain": [
       "episode_000016.mp4:   0%|          | 0.00/1.32M [00:00<?, ?B/s]"
      ]
     },
     "metadata": {},
     "output_type": "display_data"
    },
    {
     "data": {
      "application/vnd.jupyter.widget-view+json": {
       "model_id": "5a51875cf1a5497eb4d4f35354465146",
       "version_major": 2,
       "version_minor": 0
      },
      "text/plain": [
       "episode_000014.mp4:   0%|          | 0.00/1.38M [00:00<?, ?B/s]"
      ]
     },
     "metadata": {},
     "output_type": "display_data"
    },
    {
     "data": {
      "application/vnd.jupyter.widget-view+json": {
       "model_id": "c51764a4472d4781b28f2487de6dfd8d",
       "version_major": 2,
       "version_minor": 0
      },
      "text/plain": [
       "episode_000018.mp4:   0%|          | 0.00/1.32M [00:00<?, ?B/s]"
      ]
     },
     "metadata": {},
     "output_type": "display_data"
    },
    {
     "data": {
      "application/vnd.jupyter.widget-view+json": {
       "model_id": "9d09ca8276524027aa043e843381304c",
       "version_major": 2,
       "version_minor": 0
      },
      "text/plain": [
       "episode_000019.mp4:   0%|          | 0.00/1.29M [00:00<?, ?B/s]"
      ]
     },
     "metadata": {},
     "output_type": "display_data"
    },
    {
     "data": {
      "application/vnd.jupyter.widget-view+json": {
       "model_id": "2932ad66da7f49888b456b963e6df7b3",
       "version_major": 2,
       "version_minor": 0
      },
      "text/plain": [
       "episode_000017.mp4:   0%|          | 0.00/1.33M [00:00<?, ?B/s]"
      ]
     },
     "metadata": {},
     "output_type": "display_data"
    },
    {
     "data": {
      "application/vnd.jupyter.widget-view+json": {
       "model_id": "d43ff2dfe6de446db097dd2ffd685fdd",
       "version_major": 2,
       "version_minor": 0
      },
      "text/plain": [
       "episode_000020.mp4:   0%|          | 0.00/1.34M [00:00<?, ?B/s]"
      ]
     },
     "metadata": {},
     "output_type": "display_data"
    },
    {
     "data": {
      "application/vnd.jupyter.widget-view+json": {
       "model_id": "1c2e0685e1224468a48dc5fa3615d3c0",
       "version_major": 2,
       "version_minor": 0
      },
      "text/plain": [
       "episode_000022.mp4:   0%|          | 0.00/1.31M [00:00<?, ?B/s]"
      ]
     },
     "metadata": {},
     "output_type": "display_data"
    },
    {
     "data": {
      "application/vnd.jupyter.widget-view+json": {
       "model_id": "0574147aead24c6c81a3509ba14f521c",
       "version_major": 2,
       "version_minor": 0
      },
      "text/plain": [
       "episode_000021.mp4:   0%|          | 0.00/1.35M [00:00<?, ?B/s]"
      ]
     },
     "metadata": {},
     "output_type": "display_data"
    },
    {
     "data": {
      "application/vnd.jupyter.widget-view+json": {
       "model_id": "6194e28c895f4d84a9bb28fd88af24d3",
       "version_major": 2,
       "version_minor": 0
      },
      "text/plain": [
       "episode_000023.mp4:   0%|          | 0.00/1.37M [00:00<?, ?B/s]"
      ]
     },
     "metadata": {},
     "output_type": "display_data"
    },
    {
     "data": {
      "application/vnd.jupyter.widget-view+json": {
       "model_id": "fd75a482e38c485b83a924ca0319f133",
       "version_major": 2,
       "version_minor": 0
      },
      "text/plain": [
       "episode_000024.mp4:   0%|          | 0.00/1.37M [00:00<?, ?B/s]"
      ]
     },
     "metadata": {},
     "output_type": "display_data"
    },
    {
     "data": {
      "application/vnd.jupyter.widget-view+json": {
       "model_id": "4e9e2880d6e64f3683e67736ae37afe9",
       "version_major": 2,
       "version_minor": 0
      },
      "text/plain": [
       "episode_000025.mp4:   0%|          | 0.00/1.38M [00:00<?, ?B/s]"
      ]
     },
     "metadata": {},
     "output_type": "display_data"
    },
    {
     "data": {
      "application/vnd.jupyter.widget-view+json": {
       "model_id": "8afeed49603c48eab929666e555d22c1",
       "version_major": 2,
       "version_minor": 0
      },
      "text/plain": [
       "episode_000026.mp4:   0%|          | 0.00/1.34M [00:00<?, ?B/s]"
      ]
     },
     "metadata": {},
     "output_type": "display_data"
    },
    {
     "data": {
      "application/vnd.jupyter.widget-view+json": {
       "model_id": "156a0f18cb4f491eb3d388f085893e51",
       "version_major": 2,
       "version_minor": 0
      },
      "text/plain": [
       "episode_000027.mp4:   0%|          | 0.00/1.30M [00:00<?, ?B/s]"
      ]
     },
     "metadata": {},
     "output_type": "display_data"
    },
    {
     "data": {
      "application/vnd.jupyter.widget-view+json": {
       "model_id": "f55894fe4b5c486b9e83ba0da0ca6a7e",
       "version_major": 2,
       "version_minor": 0
      },
      "text/plain": [
       "episode_000028.mp4:   0%|          | 0.00/1.36M [00:00<?, ?B/s]"
      ]
     },
     "metadata": {},
     "output_type": "display_data"
    },
    {
     "data": {
      "application/vnd.jupyter.widget-view+json": {
       "model_id": "6c0b220e5b134d07b6b0321215ff0d26",
       "version_major": 2,
       "version_minor": 0
      },
      "text/plain": [
       "episode_000029.mp4:   0%|          | 0.00/1.40M [00:00<?, ?B/s]"
      ]
     },
     "metadata": {},
     "output_type": "display_data"
    },
    {
     "data": {
      "application/vnd.jupyter.widget-view+json": {
       "model_id": "2f0bb45e906849e1b391823d91e2dee7",
       "version_major": 2,
       "version_minor": 0
      },
      "text/plain": [
       "episode_000030.mp4:   0%|          | 0.00/1.32M [00:00<?, ?B/s]"
      ]
     },
     "metadata": {},
     "output_type": "display_data"
    },
    {
     "data": {
      "application/vnd.jupyter.widget-view+json": {
       "model_id": "132d4730bd5741798290e42afc1e0ab1",
       "version_major": 2,
       "version_minor": 0
      },
      "text/plain": [
       "episode_000031.mp4:   0%|          | 0.00/1.36M [00:00<?, ?B/s]"
      ]
     },
     "metadata": {},
     "output_type": "display_data"
    },
    {
     "data": {
      "application/vnd.jupyter.widget-view+json": {
       "model_id": "9c186a1f1393421086517bb0c37cd4f0",
       "version_major": 2,
       "version_minor": 0
      },
      "text/plain": [
       "episode_000033.mp4:   0%|          | 0.00/1.35M [00:00<?, ?B/s]"
      ]
     },
     "metadata": {},
     "output_type": "display_data"
    },
    {
     "data": {
      "application/vnd.jupyter.widget-view+json": {
       "model_id": "8dd62ec092574a238d71fd9e5db934bf",
       "version_major": 2,
       "version_minor": 0
      },
      "text/plain": [
       "episode_000034.mp4:   0%|          | 0.00/1.35M [00:00<?, ?B/s]"
      ]
     },
     "metadata": {},
     "output_type": "display_data"
    },
    {
     "data": {
      "application/vnd.jupyter.widget-view+json": {
       "model_id": "6b42c92ed44d437aa9d154e255c875b8",
       "version_major": 2,
       "version_minor": 0
      },
      "text/plain": [
       "episode_000035.mp4:   0%|          | 0.00/1.37M [00:00<?, ?B/s]"
      ]
     },
     "metadata": {},
     "output_type": "display_data"
    },
    {
     "data": {
      "application/vnd.jupyter.widget-view+json": {
       "model_id": "08ab560a8e974c36b0b0e69a9e335243",
       "version_major": 2,
       "version_minor": 0
      },
      "text/plain": [
       "episode_000032.mp4:   0%|          | 0.00/1.35M [00:00<?, ?B/s]"
      ]
     },
     "metadata": {},
     "output_type": "display_data"
    },
    {
     "data": {
      "application/vnd.jupyter.widget-view+json": {
       "model_id": "38ef749eee0c49639a685860668ff15a",
       "version_major": 2,
       "version_minor": 0
      },
      "text/plain": [
       "episode_000036.mp4:   0%|          | 0.00/1.38M [00:00<?, ?B/s]"
      ]
     },
     "metadata": {},
     "output_type": "display_data"
    },
    {
     "data": {
      "application/vnd.jupyter.widget-view+json": {
       "model_id": "3a71ec578c6f49c3a080027f43ff60b5",
       "version_major": 2,
       "version_minor": 0
      },
      "text/plain": [
       "episode_000037.mp4:   0%|          | 0.00/1.37M [00:00<?, ?B/s]"
      ]
     },
     "metadata": {},
     "output_type": "display_data"
    },
    {
     "data": {
      "application/vnd.jupyter.widget-view+json": {
       "model_id": "4fb9d8dc6da34d9bbce434bb6703c042",
       "version_major": 2,
       "version_minor": 0
      },
      "text/plain": [
       "episode_000038.mp4:   0%|          | 0.00/1.37M [00:00<?, ?B/s]"
      ]
     },
     "metadata": {},
     "output_type": "display_data"
    },
    {
     "data": {
      "application/vnd.jupyter.widget-view+json": {
       "model_id": "fb71a9dbd95f47bd9d1a1fbe6949f3b8",
       "version_major": 2,
       "version_minor": 0
      },
      "text/plain": [
       "episode_000039.mp4:   0%|          | 0.00/1.38M [00:00<?, ?B/s]"
      ]
     },
     "metadata": {},
     "output_type": "display_data"
    },
    {
     "data": {
      "application/vnd.jupyter.widget-view+json": {
       "model_id": "856251de69c045d5b876b952c3524dd5",
       "version_major": 2,
       "version_minor": 0
      },
      "text/plain": [
       "episode_000040.mp4:   0%|          | 0.00/1.32M [00:00<?, ?B/s]"
      ]
     },
     "metadata": {},
     "output_type": "display_data"
    },
    {
     "data": {
      "application/vnd.jupyter.widget-view+json": {
       "model_id": "a7f2733976c64e499d3745f33d1f3e87",
       "version_major": 2,
       "version_minor": 0
      },
      "text/plain": [
       "episode_000041.mp4:   0%|          | 0.00/1.31M [00:00<?, ?B/s]"
      ]
     },
     "metadata": {},
     "output_type": "display_data"
    },
    {
     "data": {
      "application/vnd.jupyter.widget-view+json": {
       "model_id": "ffd34646a0f94b89a1971d6da5daeee2",
       "version_major": 2,
       "version_minor": 0
      },
      "text/plain": [
       "episode_000042.mp4:   0%|          | 0.00/1.38M [00:00<?, ?B/s]"
      ]
     },
     "metadata": {},
     "output_type": "display_data"
    },
    {
     "data": {
      "application/vnd.jupyter.widget-view+json": {
       "model_id": "723415c4a7f24bf884b3722562369e8b",
       "version_major": 2,
       "version_minor": 0
      },
      "text/plain": [
       "episode_000043.mp4:   0%|          | 0.00/1.36M [00:00<?, ?B/s]"
      ]
     },
     "metadata": {},
     "output_type": "display_data"
    },
    {
     "data": {
      "application/vnd.jupyter.widget-view+json": {
       "model_id": "bfca4f4c0f804cf792ec5c03c3b96890",
       "version_major": 2,
       "version_minor": 0
      },
      "text/plain": [
       "episode_000044.mp4:   0%|          | 0.00/1.33M [00:00<?, ?B/s]"
      ]
     },
     "metadata": {},
     "output_type": "display_data"
    },
    {
     "data": {
      "application/vnd.jupyter.widget-view+json": {
       "model_id": "39a7e6dd18174013a79df1ca90ee0ce9",
       "version_major": 2,
       "version_minor": 0
      },
      "text/plain": [
       "episode_000045.mp4:   0%|          | 0.00/1.36M [00:00<?, ?B/s]"
      ]
     },
     "metadata": {},
     "output_type": "display_data"
    },
    {
     "data": {
      "application/vnd.jupyter.widget-view+json": {
       "model_id": "5cf15ae7c96a4a3aa25d7aad6f5e8a99",
       "version_major": 2,
       "version_minor": 0
      },
      "text/plain": [
       "episode_000046.mp4:   0%|          | 0.00/1.34M [00:00<?, ?B/s]"
      ]
     },
     "metadata": {},
     "output_type": "display_data"
    },
    {
     "data": {
      "application/vnd.jupyter.widget-view+json": {
       "model_id": "388bbe42ee8f4ea6be1ec2054edbb3ce",
       "version_major": 2,
       "version_minor": 0
      },
      "text/plain": [
       "episode_000047.mp4:   0%|          | 0.00/1.33M [00:00<?, ?B/s]"
      ]
     },
     "metadata": {},
     "output_type": "display_data"
    },
    {
     "data": {
      "application/vnd.jupyter.widget-view+json": {
       "model_id": "14841350a4c347d293c7bad7533b4203",
       "version_major": 2,
       "version_minor": 0
      },
      "text/plain": [
       "episode_000048.mp4:   0%|          | 0.00/1.39M [00:00<?, ?B/s]"
      ]
     },
     "metadata": {},
     "output_type": "display_data"
    },
    {
     "data": {
      "application/vnd.jupyter.widget-view+json": {
       "model_id": "7501fee94b494165bb2353f07544b9a8",
       "version_major": 2,
       "version_minor": 0
      },
      "text/plain": [
       "episode_000049.mp4:   0%|          | 0.00/1.32M [00:00<?, ?B/s]"
      ]
     },
     "metadata": {},
     "output_type": "display_data"
    },
    {
     "data": {
      "application/vnd.jupyter.widget-view+json": {
       "model_id": "cea48fe08ca947f3bc26fc2010ea63a2",
       "version_major": 2,
       "version_minor": 0
      },
      "text/plain": [
       "episode_000023.parquet:   0%|          | 0.00/52.8k [00:00<?, ?B/s]"
      ]
     },
     "metadata": {},
     "output_type": "display_data"
    },
    {
     "data": {
      "application/vnd.jupyter.widget-view+json": {
       "model_id": "0c9c2c68a19a42c09fbb54cf7c42af46",
       "version_major": 2,
       "version_minor": 0
      },
      "text/plain": [
       "Resolving data files:   0%|          | 0/50 [00:00<?, ?it/s]"
      ]
     },
     "metadata": {},
     "output_type": "display_data"
    },
    {
     "data": {
      "application/vnd.jupyter.widget-view+json": {
       "model_id": "9fc7e2e5dffc408c82e1c2ab7dc7716e",
       "version_major": 2,
       "version_minor": 0
      },
      "text/plain": [
       "Downloading data:   0%|          | 0/50 [00:00<?, ?files/s]"
      ]
     },
     "metadata": {},
     "output_type": "display_data"
    },
    {
     "data": {
      "application/vnd.jupyter.widget-view+json": {
       "model_id": "6f7a0c857d3248aca705922866ccce02",
       "version_major": 2,
       "version_minor": 0
      },
      "text/plain": [
       "Generating train split: 0 examples [00:00, ? examples/s]"
      ]
     },
     "metadata": {},
     "output_type": "display_data"
    },
    {
     "name": "stdout",
     "output_type": "stream",
     "text": [
      "Loss shape: (2, 50)\n"
     ]
    }
   ],
   "source": [
    "# Reduce the batch size to reduce memory usage.\n",
    "config = dataclasses.replace(config, batch_size=2)\n",
    "\n",
    "# Load a single batch of data. This is the same data that will be used during training.\n",
    "# NOTE: In order to make this example self-contained, we are skipping the normalization step\n",
    "# since it requires the normalization statistics to be generated using `compute_norm_stats`.\n",
    "loader = _data_loader.create_data_loader(config, num_batches=1, skip_norm_stats=True)\n",
    "obs, act = next(iter(loader))\n",
    "\n",
    "# Sample actions from the model.\n",
    "loss = model.compute_loss(key, obs, act)\n",
    "\n",
    "# Delete the model to free up memory.\n",
    "del model\n",
    "\n",
    "print(\"Loss shape:\", loss.shape)"
   ]
  }
 ],
 "metadata": {
  "kernelspec": {
   "display_name": ".venv",
   "language": "python",
   "name": "python3"
  },
  "language_info": {
   "codemirror_mode": {
    "name": "ipython",
    "version": 3
   },
   "file_extension": ".py",
   "mimetype": "text/x-python",
   "name": "python",
   "nbconvert_exporter": "python",
   "pygments_lexer": "ipython3",
   "version": "3.11.11"
  }
 },
 "nbformat": 4,
 "nbformat_minor": 2
}
